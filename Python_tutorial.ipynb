{
  "nbformat": 4,
  "nbformat_minor": 0,
  "metadata": {
    "colab": {
      "provenance": [],
      "authorship_tag": "ABX9TyMsI/rfcylZT7nFpIaaUyrv",
      "include_colab_link": true
    },
    "kernelspec": {
      "name": "python3",
      "display_name": "Python 3"
    },
    "language_info": {
      "name": "python"
    }
  },
  "cells": [
    {
      "cell_type": "markdown",
      "metadata": {
        "id": "view-in-github",
        "colab_type": "text"
      },
      "source": [
        "<a href=\"https://colab.research.google.com/github/Adhish-Sreekumar/Python_problems/blob/main/Python_tutorial.ipynb\" target=\"_parent\"><img src=\"https://colab.research.google.com/assets/colab-badge.svg\" alt=\"Open In Colab\"/></a>"
      ]
    },
    {
      "cell_type": "code",
      "execution_count": 4,
      "metadata": {
        "colab": {
          "base_uri": "https://localhost:8080/"
        },
        "id": "WyWPPTRcrPUL",
        "outputId": "d7a67394-22a3-4c8f-c523-7a0adc34af28"
      },
      "outputs": [
        {
          "output_type": "stream",
          "name": "stdout",
          "text": [
            "654321\n"
          ]
        }
      ],
      "source": [
        "def reverse_string(s):\n",
        "  return s[::-1]\n",
        "\n",
        "print(reverse_string(\"123456\"))"
      ]
    },
    {
      "cell_type": "code",
      "source": [
        "def is_prime(n):\n",
        "  if n<=1 :\n",
        "    return False\n",
        "\n",
        "  for i in range(2,int(n**0.5)+1):\n",
        "    if n%i == 0:\n",
        "      return False\n",
        "\n",
        "  return True\n",
        "\n",
        "is_prime(12)"
      ],
      "metadata": {
        "colab": {
          "base_uri": "https://localhost:8080/"
        },
        "id": "mYZoLhLXrl9n",
        "outputId": "d085b215-f450-4cba-ca9a-ce1ff6e5431b"
      },
      "execution_count": 15,
      "outputs": [
        {
          "output_type": "execute_result",
          "data": {
            "text/plain": [
              "False"
            ]
          },
          "metadata": {},
          "execution_count": 15
        }
      ]
    },
    {
      "cell_type": "code",
      "source": [
        "def large(n):\n",
        "  return max(n)\n",
        "\n",
        "print(large([1,2,3,4,5]))"
      ],
      "metadata": {
        "colab": {
          "base_uri": "https://localhost:8080/"
        },
        "id": "BaEer6GTuSBg",
        "outputId": "7575b8fa-5730-4b97-ce16-84a9714709aa"
      },
      "execution_count": 19,
      "outputs": [
        {
          "output_type": "stream",
          "name": "stdout",
          "text": [
            "5\n"
          ]
        }
      ]
    },
    {
      "cell_type": "code",
      "source": [],
      "metadata": {
        "id": "vl6ND0IPwg2G"
      },
      "execution_count": null,
      "outputs": []
    }
  ]
}
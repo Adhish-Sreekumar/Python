{
  "nbformat": 4,
  "nbformat_minor": 0,
  "metadata": {
    "colab": {
      "provenance": [],
      "authorship_tag": "ABX9TyOvgbGtKUBRYIz76i8VBAsu",
      "include_colab_link": true
    },
    "kernelspec": {
      "name": "python3",
      "display_name": "Python 3"
    },
    "language_info": {
      "name": "python"
    }
  },
  "cells": [
    {
      "cell_type": "markdown",
      "metadata": {
        "id": "view-in-github",
        "colab_type": "text"
      },
      "source": [
        "<a href=\"https://colab.research.google.com/github/Adhish-Sreekumar/Python_problems/blob/main/python_problems.ipynb\" target=\"_parent\"><img src=\"https://colab.research.google.com/assets/colab-badge.svg\" alt=\"Open In Colab\"/></a>"
      ]
    },
    {
      "cell_type": "code",
      "execution_count": null,
      "metadata": {
        "colab": {
          "base_uri": "https://localhost:8080/"
        },
        "id": "WyWPPTRcrPUL",
        "outputId": "d7a67394-22a3-4c8f-c523-7a0adc34af28"
      },
      "outputs": [
        {
          "output_type": "stream",
          "name": "stdout",
          "text": [
            "654321\n"
          ]
        }
      ],
      "source": [
        "# string reversal\n",
        "def reverse_string(s):\n",
        "  return s[::-1]\n",
        "\n",
        "print(reverse_string(\"123456\"))"
      ]
    },
    {
      "cell_type": "code",
      "source": [
        "# prime number\n",
        "def is_prime(n):\n",
        "  if n<=1 :\n",
        "    return False\n",
        "\n",
        "  for i in range(2,int(n**0.5)+1):\n",
        "    if n%i == 0:\n",
        "      return False\n",
        "\n",
        "  return True\n",
        "\n",
        "is_prime(12)"
      ],
      "metadata": {
        "colab": {
          "base_uri": "https://localhost:8080/"
        },
        "id": "mYZoLhLXrl9n",
        "outputId": "d085b215-f450-4cba-ca9a-ce1ff6e5431b"
      },
      "execution_count": null,
      "outputs": [
        {
          "output_type": "execute_result",
          "data": {
            "text/plain": [
              "False"
            ]
          },
          "metadata": {},
          "execution_count": 15
        }
      ]
    },
    {
      "cell_type": "code",
      "source": [
        "# largest number\n",
        "def large(n):\n",
        "  return max(n)\n",
        "\n",
        "print(large([1,2,3,4,5]))"
      ],
      "metadata": {
        "colab": {
          "base_uri": "https://localhost:8080/"
        },
        "id": "BaEer6GTuSBg",
        "outputId": "7575b8fa-5730-4b97-ce16-84a9714709aa"
      },
      "execution_count": null,
      "outputs": [
        {
          "output_type": "stream",
          "name": "stdout",
          "text": [
            "5\n"
          ]
        }
      ]
    },
    {
      "cell_type": "code",
      "source": [
        "# Fibonacci Series\n",
        "def fib(n):\n",
        "  sequence = []\n",
        "  a,b = 0,1\n",
        "  while(len(sequence) < n) :\n",
        "    sequence.append(a)\n",
        "    a , b = b , a+b\n",
        "\n",
        "  return sequence\n",
        "\n",
        "fib(10)"
      ],
      "metadata": {
        "id": "vl6ND0IPwg2G",
        "colab": {
          "base_uri": "https://localhost:8080/"
        },
        "outputId": "2061f1f6-b39a-4096-84ea-297b6688dd41"
      },
      "execution_count": 7,
      "outputs": [
        {
          "output_type": "execute_result",
          "data": {
            "text/plain": [
              "[0, 1, 1, 2, 3, 5, 8, 13, 21, 34]"
            ]
          },
          "metadata": {},
          "execution_count": 7
        }
      ]
    },
    {
      "cell_type": "code",
      "source": [
        "# Count of vowels in a string\n",
        "def count_vow(s):\n",
        "  vowels = \"aeiouAEIOU\"\n",
        "  count = 0\n",
        "  for char in s:\n",
        "    if char in vowels:\n",
        "       count +=1\n",
        "  return count\n",
        "\n",
        "count_vow(\"aeiouhhhhhhhh\")"
      ],
      "metadata": {
        "colab": {
          "base_uri": "https://localhost:8080/"
        },
        "id": "AFBLJ_--6_RR",
        "outputId": "6cdb2279-c57d-44ca-c9b9-bb705b7f1e0c"
      },
      "execution_count": 11,
      "outputs": [
        {
          "output_type": "execute_result",
          "data": {
            "text/plain": [
              "5"
            ]
          },
          "metadata": {},
          "execution_count": 11
        }
      ]
    },
    {
      "cell_type": "code",
      "source": [
        "# sum of digits\n",
        "def sum_dig(n):\n",
        "  total = 0\n",
        "  while n>0 :\n",
        "    total += n%10\n",
        "    n = n//10\n",
        "  return total\n",
        "sum_dig(1234)"
      ],
      "metadata": {
        "colab": {
          "base_uri": "https://localhost:8080/"
        },
        "id": "uMx0e56J9wna",
        "outputId": "7f2adf7a-b01c-46ad-a079-fc1583f74a2c"
      },
      "execution_count": 4,
      "outputs": [
        {
          "output_type": "execute_result",
          "data": {
            "text/plain": [
              "10"
            ]
          },
          "metadata": {},
          "execution_count": 4
        }
      ]
    },
    {
      "cell_type": "code",
      "source": [
        "# palindrome\n",
        "def palindrome(s):\n",
        "  return s == s[::-1]\n",
        "\n",
        "print(palindrome(\"hah\"),palindrome(\"adfsg\"))"
      ],
      "metadata": {
        "colab": {
          "base_uri": "https://localhost:8080/"
        },
        "id": "Z2fmxpI_gr8i",
        "outputId": "6399b6a3-b806-4351-c2ef-b083847c3317"
      },
      "execution_count": 9,
      "outputs": [
        {
          "output_type": "stream",
          "name": "stdout",
          "text": [
            "True False\n"
          ]
        }
      ]
    },
    {
      "cell_type": "code",
      "source": [
        "# merge_list\n",
        "def merge_list(list1,list2):\n",
        "  return list1+list2\n",
        "\n",
        "merge_list([1,2,3,4],[1,2,3,4])"
      ],
      "metadata": {
        "colab": {
          "base_uri": "https://localhost:8080/"
        },
        "id": "_mOlyg0_iu18",
        "outputId": "e245e82a-8a34-436b-e1d8-a475562f57c3"
      },
      "execution_count": 10,
      "outputs": [
        {
          "output_type": "execute_result",
          "data": {
            "text/plain": [
              "[1, 2, 3, 4, 1, 2, 3, 4]"
            ]
          },
          "metadata": {},
          "execution_count": 10
        }
      ]
    },
    {
      "cell_type": "code",
      "source": [
        "# remove duplicataes from a list\n",
        "def remove_dupli(l):\n",
        "  return list(set(l))\n",
        "\n",
        "remove_dupli([1,2,3,4,5,2,3,4,5])"
      ],
      "metadata": {
        "colab": {
          "base_uri": "https://localhost:8080/"
        },
        "id": "lnnuYYPwjyDx",
        "outputId": "8a52cce5-af3e-46fa-8e7f-54b3bba92cc9"
      },
      "execution_count": 12,
      "outputs": [
        {
          "output_type": "execute_result",
          "data": {
            "text/plain": [
              "[1, 2, 3, 4, 5]"
            ]
          },
          "metadata": {},
          "execution_count": 12
        }
      ]
    },
    {
      "cell_type": "code",
      "source": [
        "# factorial\n",
        "def factorial(n):\n",
        "  if n == 0:\n",
        "    return 1\n",
        "  else:\n",
        "    return n*factorial(n-1)\n",
        "\n",
        "factorial(5)"
      ],
      "metadata": {
        "colab": {
          "base_uri": "https://localhost:8080/"
        },
        "id": "uE3JSOB1kxpC",
        "outputId": "eeae57dd-4df2-43d9-cfec-1c7f3a85c441"
      },
      "execution_count": 17,
      "outputs": [
        {
          "output_type": "execute_result",
          "data": {
            "text/plain": [
              "120"
            ]
          },
          "metadata": {},
          "execution_count": 17
        }
      ]
    },
    {
      "cell_type": "code",
      "source": [],
      "metadata": {
        "id": "XpJy7LPFlzgy"
      },
      "execution_count": null,
      "outputs": []
    }
  ]
}